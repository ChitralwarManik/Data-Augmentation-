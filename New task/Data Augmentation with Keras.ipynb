{
 "cells": [
  {
   "cell_type": "markdown",
   "metadata": {},
   "source": [
    "# Data Augmentation using Keras"
   ]
  },
  {
   "cell_type": "markdown",
   "metadata": {},
   "source": [
    "........................................................................................................................................................................................................................................................"
   ]
  },
  {
   "cell_type": "markdown",
   "metadata": {},
   "source": [
    "##  Introduction "
   ]
  },
  {
   "cell_type": "markdown",
   "metadata": {},
   "source": [
    "* Image data augmentation is a technique that can be used to artificially expand the size of a training dataset by creating modified versions of images in the dataset.\n",
    "\n",
    "* Training deep learning neural network models on more data can result in more skillful models, and the augmentation techniques can create variations of the images that can improve the ability of the fit models to generalize what they have learned to new images.\n",
    "\n",
    "* The Keras deep learning neural network library provides the capability to fit models using image data augmentation via the ImageDataGenerator class.\n",
    "\n"
   ]
  },
  {
   "cell_type": "markdown",
   "metadata": {},
   "source": [
    "In this repo, you will discover how to use image data augmentation when training deep learning neural networks.\n",
    "- Image data augmentation is used to expand the training dataset in order to improve the performance and ability of the model to generalize.\n",
    "- Image data augmentation is supported in the Keras deep learning library via the ImageDataGenerator class.\n",
    "- How to use shift, flip, brightness, and zoom image data augmentation."
   ]
  },
  {
   "cell_type": "markdown",
   "metadata": {},
   "source": [
    "## Image Augmentation With ImageDataGenerator"
   ]
  },
  {
   "cell_type": "markdown",
   "metadata": {},
   "source": [
    "* The Keras deep learning library provides the ability to use data augmentation automatically when training a model.\n",
    "\n",
    "* This is achieved by using the ImageDataGenerator class.\n",
    "\n",
    "* First, the class may be instantiated and the configuration for the types of data augmentation are specified by arguments to the class constructor.\n",
    "\n"
   ]
  },
  {
   "cell_type": "markdown",
   "metadata": {},
   "source": [
    "A range of techniques are supported, as well as pixel scaling methods. We will focus on five main types of data augmentation techniques for image data; specifically:\n",
    "- Image shifts via the width_shift_range and height_shift_range arguments.\n",
    "- Image flips via the horizontal_flip and vertical_flip arguments.\n",
    "- Image rotations via the rotation_range argument\n",
    "- Image brightness via the brightness_range argument.\n",
    "- Image zoom via the zoom_range argument."
   ]
  },
  {
   "cell_type": "markdown",
   "metadata": {},
   "source": [
    "__To run this code must have `Keras` and `tensorflow` installed in your System__"
   ]
  },
  {
   "cell_type": "markdown",
   "metadata": {},
   "source": [
    "__If you don't have then i have uploaded a video about it just go through the link__"
   ]
  },
  {
   "cell_type": "markdown",
   "metadata": {},
   "source": [
    "[Install Tensorflow and Keras](https://www.youtube.com/watch?v=Q6Nbaod_AGs)"
   ]
  },
  {
   "cell_type": "code",
   "execution_count": null,
   "metadata": {},
   "outputs": [],
   "source": [
    "pip install scikit-image"
   ]
  },
  {
   "cell_type": "code",
   "execution_count": null,
   "metadata": {},
   "outputs": [],
   "source": [
    "pip install tk"
   ]
  },
  {
   "cell_type": "code",
   "execution_count": null,
   "metadata": {},
   "outputs": [],
   "source": [
    "# Importing the libraries\n",
    "import keras\n",
    "import numpy as np\n",
    "import os\n",
    "import PIL\n",
    "from PIL import Image\n",
    "from skimage import io\n",
    "from PIL import Image as Img\n",
    "from PIL import ImageTk"
   ]
  },
  {
   "cell_type": "code",
   "execution_count": null,
   "metadata": {},
   "outputs": [],
   "source": [
    "from keras.preprocessing.image import ImageDataGenerator, array_to_img, img_to_array, load_img\n",
    "\n",
    "datagen = ImageDataGenerator(\n",
    "        rotation_range=50,      #rotate image in 0-50 degree to left angle and right angle.\n",
    "        width_shift_range=0.2,  #move image to 20% left and right.\n",
    "        height_shift_range=0.2, #move image to 20% up and down.\n",
    "        shear_range=0.2,        #shear image to 20%\n",
    "        zoom_range=0.2,         #20% zoom in and 20% zoom out\n",
    "        horizontal_flip=True,   \n",
    "        fill_mode='wrap')     #you can try changing fill mode to \"constant\", \"nearest\", \"reflect\", \"wrap\" and see what happence.\n",
    "\n",
    "\n",
    "image_directory= 'images/'  #put your original images into \"images/\" folder.\n",
    "SIZE = 600                 #Specify size of the images you want after augmentation\n",
    "dataset =[]\n",
    "\n",
    "# reading all the images one by one and applying augmentation on it \n",
    "my_images = os.listdir(image_directory)\n",
    "for i, image_name in enumerate(my_images):\n",
    "    if(image_name.split('.')[1] == 'jpg' ):\n",
    "        image = io.imread(image_directory + image_name)\n",
    "        image = Image.fromarray(image,'RGB')\n",
    "        image = image.resize((SIZE,SIZE))\n",
    "        dataset.append(np.array(image))\n",
    "        \n",
    "x = np.array(dataset)\n",
    "\n",
    "\n",
    "\n",
    "i = 0\n",
    "for batch in datagen.flow(x, batch_size=100,\n",
    "                          save_to_dir='Augmented Images', save_prefix='img', save_format='jpg'):\n",
    "    i += 1\n",
    "    if i > 10  :\n",
    "        break  # otherwise the generator would loop indefinitely"
   ]
  },
  {
   "cell_type": "markdown",
   "metadata": {},
   "source": [
    "After the process is done the augmented imges will be saved in \"Augmented Images/\" Folder"
   ]
  },
  {
   "cell_type": "markdown",
   "metadata": {},
   "source": [
    "======================================================================================================================="
   ]
  }
 ],
 "metadata": {
  "kernelspec": {
   "display_name": "Python 3",
   "language": "python",
   "name": "python3"
  },
  "language_info": {
   "codemirror_mode": {
    "name": "ipython",
    "version": 3
   },
   "file_extension": ".py",
   "mimetype": "text/x-python",
   "name": "python",
   "nbconvert_exporter": "python",
   "pygments_lexer": "ipython3",
   "version": "3.7.10"
  }
 },
 "nbformat": 4,
 "nbformat_minor": 2
}
